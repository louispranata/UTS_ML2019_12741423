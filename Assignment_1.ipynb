{
  "nbformat": 4,
  "nbformat_minor": 0,
  "metadata": {
    "colab": {
      "name": "Assignment 1.ipynb",
      "version": "0.3.2",
      "provenance": [],
      "include_colab_link": true
    },
    "kernelspec": {
      "name": "python3",
      "display_name": "Python 3"
    }
  },
  "cells": [
    {
      "cell_type": "markdown",
      "metadata": {
        "id": "view-in-github",
        "colab_type": "text"
      },
      "source": [
        "<a href=\"https://colab.research.google.com/github/louispranata/UTS_ML2019_12741423/blob/master/Assignment_1.ipynb\" target=\"_parent\"><img src=\"https://colab.research.google.com/assets/colab-badge.svg\" alt=\"Open In Colab\"/></a>"
      ]
    },
    {
      "cell_type": "markdown",
      "metadata": {
        "id": "VP2GR6zuydbR",
        "colab_type": "text"
      },
      "source": [
        "#Review Report on *Eigenfaces vs. Fisherfaces: Recognition Using Class Specific Linear Projection*"
      ]
    },
    {
      "cell_type": "markdown",
      "metadata": {
        "id": "OTGrvRG7wMs3",
        "colab_type": "text"
      },
      "source": [
        "##Introduction\n",
        "This report will contain information about the review of a chosen machine learning literature and its critique. The chosen literature for this review will be the paper titled “Eigenfaces vs. Fisherfaces: Recognition Using Class Specific Linear Projection” which is written by Peter N. Belhumeur, Joao P. Hespanha and David J. Kriegma. Its critiques will be separated into many different parts for the purpose of making the report easier to read.\n"
      ]
    },
    {
      "cell_type": "markdown",
      "metadata": {
        "id": "DutjoMs7ydFB",
        "colab_type": "text"
      },
      "source": [
        "##Content\n",
        "\n",
        "This literature paper contains information about the development of a new algorithm on face recognition which will not be affected by face expressions and lighting direction. For the last few years, many algorithms have been developed for the purpose of face recognition but as there is a huge improvement for this matter, other factors such as facial expression and light direction have been major obstacles on making a better algorithm than the current ones.  In this literature paper, a new approach has been proposed to be able to resist these factors which will lead to a more accurate and better results.\n",
        "\n",
        "This new algorithm known as the Fisherfaces will be able to recognise two pictures of the same person with different lighting intensity and direction which would not be possible by using the old algorithms. The other methods and algorithms which will be discussed in this report are correlation, eigenfaces and linear subspaces. In this report, each of these old algorithms will be discussed and explain in detail to be able to compare them with the Fisherfaces algorithm. By comparing the old methods and looking at their flaws, we can know their issues which will be needed to be resolved and make a new algorithm which can provide a better output for face recognition.\n",
        "\n",
        "An experiment has also been conducted to prove that the Fisherfaces algorithm will provide a more accurate results and a lower error rate. The factors which are tested on this experiment are lighting, facial expression and glasses recognition variation. All the methods and algorithm will be used to test on these main factors and their results will be compared to see if the Fisherfaces algorithm will have better outcome compared to the other methods. After the results are compared, there will be evidences about whether or not the Fisherfaces algorithm is the best method of face recognition.\n"
      ]
    },
    {
      "cell_type": "markdown",
      "metadata": {
        "id": "NS-R6-tBylbV",
        "colab_type": "text"
      },
      "source": [
        "##Innovation"
      ]
    },
    {
      "cell_type": "markdown",
      "metadata": {
        "id": "pIttMdAiyp3g",
        "colab_type": "text"
      },
      "source": [
        "##Technical quality\n"
      ]
    },
    {
      "cell_type": "markdown",
      "metadata": {
        "id": "6qmtxbxzyunQ",
        "colab_type": "text"
      },
      "source": [
        "##Application and X-factor\n"
      ]
    },
    {
      "cell_type": "markdown",
      "metadata": {
        "id": "0TANAHv8y0mO",
        "colab_type": "text"
      },
      "source": [
        "##Presentation"
      ]
    },
    {
      "cell_type": "markdown",
      "metadata": {
        "colab_type": "text",
        "id": "GKbTFx_KzZtR"
      },
      "source": [
        "##References\n",
        "Belhumeur, P., Hespanha, J. and Kriegman, D. 1997, Eigenfaces vs. Fisherfaces: recognition using class specific linear projection, *IEEE Transactions on Pattern Analysis and Machine Intelligence*, vol 19, no 7, pp.711-720,.\n",
        "\n",
        "cite : (Belhumeur, Hespanha and Kriegman, 1997)"
      ]
    },
    {
      "cell_type": "markdown",
      "metadata": {
        "id": "WOIbvqh14eXv",
        "colab_type": "text"
      },
      "source": [
        "Link: https://github.com/louispranata/UTS_ML2019_12741423/blob/master/Assignment_1.ipynb"
      ]
    }
  ]
}