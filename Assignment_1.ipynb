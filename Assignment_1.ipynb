{
  "nbformat": 4,
  "nbformat_minor": 0,
  "metadata": {
    "colab": {
      "name": "Assignment 1.ipynb",
      "version": "0.3.2",
      "provenance": [],
      "include_colab_link": true
    },
    "kernelspec": {
      "name": "python3",
      "display_name": "Python 3"
    }
  },
  "cells": [
    {
      "cell_type": "markdown",
      "metadata": {
        "id": "view-in-github",
        "colab_type": "text"
      },
      "source": [
        "<a href=\"https://colab.research.google.com/github/louispranata/UTS_ML2019_12741423/blob/master/Assignment_1.ipynb\" target=\"_parent\"><img src=\"https://colab.research.google.com/assets/colab-badge.svg\" alt=\"Open In Colab\"/></a>"
      ]
    },
    {
      "cell_type": "markdown",
      "metadata": {
        "id": "VP2GR6zuydbR",
        "colab_type": "text"
      },
      "source": [
        "#Review Report on *Eigenfaces vs. Fisherfaces: Recognition Using Class Specific Linear Projection*"
      ]
    },
    {
      "cell_type": "markdown",
      "metadata": {
        "id": "OTGrvRG7wMs3",
        "colab_type": "text"
      },
      "source": [
        "##Introduction"
      ]
    },
    {
      "cell_type": "markdown",
      "metadata": {
        "id": "DutjoMs7ydFB",
        "colab_type": "text"
      },
      "source": [
        "##Content"
      ]
    },
    {
      "cell_type": "markdown",
      "metadata": {
        "id": "NS-R6-tBylbV",
        "colab_type": "text"
      },
      "source": [
        "##Innovation"
      ]
    },
    {
      "cell_type": "markdown",
      "metadata": {
        "id": "pIttMdAiyp3g",
        "colab_type": "text"
      },
      "source": [
        "##Technical quality\n"
      ]
    },
    {
      "cell_type": "markdown",
      "metadata": {
        "id": "6qmtxbxzyunQ",
        "colab_type": "text"
      },
      "source": [
        "##Application and X-factor\n"
      ]
    },
    {
      "cell_type": "markdown",
      "metadata": {
        "id": "0TANAHv8y0mO",
        "colab_type": "text"
      },
      "source": [
        "##Presentation"
      ]
    },
    {
      "cell_type": "markdown",
      "metadata": {
        "colab_type": "text",
        "id": "GKbTFx_KzZtR"
      },
      "source": [
        "##References\n",
        "Belhumeur, P., Hespanha, J. and Kriegman, D. 1997, Eigenfaces vs. Fisherfaces: recognition using class specific linear projection, *IEEE Transactions on Pattern Analysis and Machine Intelligence*, vol 19, no 7, pp.711-720,.\n",
        "\n",
        "cite : (Belhumeur, Hespanha and Kriegman, 1997)"
      ]
    },
    {
      "cell_type": "markdown",
      "metadata": {
        "id": "WOIbvqh14eXv",
        "colab_type": "text"
      },
      "source": [
        "Link: https://github.com/louispranata/UTS_ML2019_12741423/blob/master/Assignment_1.ipynb"
      ]
    }
  ]
}