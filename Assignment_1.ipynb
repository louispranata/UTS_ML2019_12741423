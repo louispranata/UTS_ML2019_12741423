{
  "nbformat": 4,
  "nbformat_minor": 0,
  "metadata": {
    "colab": {
      "name": "Assignment 1.ipynb",
      "version": "0.3.2",
      "provenance": [],
      "include_colab_link": true
    },
    "kernelspec": {
      "name": "python3",
      "display_name": "Python 3"
    }
  },
  "cells": [
    {
      "cell_type": "markdown",
      "metadata": {
        "id": "view-in-github",
        "colab_type": "text"
      },
      "source": [
        "<a href=\"https://colab.research.google.com/github/louispranata/UTS_ML2019_12741423/blob/master/Assignment_1.ipynb\" target=\"_parent\"><img src=\"https://colab.research.google.com/assets/colab-badge.svg\" alt=\"Open In Colab\"/></a>"
      ]
    },
    {
      "cell_type": "markdown",
      "metadata": {
        "id": "VXcRMo648MXE",
        "colab_type": "text"
      },
      "source": [
        "#Assignment 1: Understanding the literature\n",
        "31005+32513 Machine Learning Spring 2019         \n",
        "\n",
        "Louis Pranata 12741423"
      ]
    },
    {
      "cell_type": "markdown",
      "metadata": {
        "id": "VP2GR6zuydbR",
        "colab_type": "text"
      },
      "source": [
        "#Review Report on *Eigenfaces vs. Fisherfaces: Recognition Using Class Specific Linear Projection*"
      ]
    },
    {
      "cell_type": "markdown",
      "metadata": {
        "id": "OTGrvRG7wMs3",
        "colab_type": "text"
      },
      "source": [
        "##Introduction\n",
        "This report will contain information about the review of a chosen machine learning literature and its critique. The chosen literature for this review will be the paper titled *“Eigenfaces vs. Fisherfaces: Recognition Using Class Specific Linear Projection”* which is written by Peter N. Belhumeur, Joao P. Hespanha and David J. Kriegma. Its critiques will be separated into many different parts to make the report easier to read and understand.\n"
      ]
    },
    {
      "cell_type": "markdown",
      "metadata": {
        "id": "DutjoMs7ydFB",
        "colab_type": "text"
      },
      "source": [
        "##Content\n",
        "This literature paper contains information about the development of a new algorithm on face recognition which will not be affected by facial expressions and lighting direction (Belhumeur, Hespanha and Kriegman, 1997). For the last few years, many algorithms have been developed for face recognition but as there is a huge improvement for this matter, other factors such as facial expression and light direction have been major obstacles on making a better algorithm than the current ones. In this literature paper, a new approach has been proposed to be able to resist these factors which will lead to more accurate and better results.\n",
        "\n",
        "This new algorithm known as the Fisherfaces will be able to recognise two pictures of the same person with different lighting intensity and direction which would not be possible by using the other algorithms (Belhumeur, Hespanha and Kriegman, 1997). The other methods and algorithms which will be discussed in this report are correlation, eigenfaces and linear subspaces. In this report, each of these other algorithms will be discussed and explain in detail to be able to compare them with the Fisherfaces algorithm. By comparing the other methods and looking at their flaws, we can know their issues which will be needed to be resolved and make a new algorithm which can provide a better output for face recognition.\n",
        "\n",
        "The main problem which is discussed in this literature paper is that the other methods and algorithms do not produce an accurate result of the face recognition People thinks that this problem is not a major issue but as it sounds like a minor issue, it can cause a big problem for other people and computer database. If the face recognition system concludes that two pictures of the same person with different lighting and facial expressions are not similar, then it can cause an error that they are not the same person.\n"
      ]
    },
    {
      "cell_type": "markdown",
      "metadata": {
        "id": "NS-R6-tBylbV",
        "colab_type": "text"
      },
      "source": [
        "##Innovation\n",
        "\n",
        "The Fisherfaces algorithm which is introduced in this paper is going to attack the problems of other methods by producing more accurate results compared to the other methods. The creative idea is that rather than only projecting the image space linearly into space of low dimension with Eigenfaces method, the Fisherfaces algorithm will treat the face regions in the image with large deviation which produces better-separated classes of the images in the low dimension subspace disregarding the facial expression and lighting (Belhumeur, Hespanha and Kriegman, 1997). Due to this reason, the Fisherfaces algorithm will produce a more accurate result in finding the pictures of the same person with a lower error rate.\n",
        "\n",
        "In the past when this algorithm was not found and proposed yet, people do not mind about lighting and facial expressions as they are not major issues but as time goes on, technology has been used a lot more and has been an essential part of human life. These factors have been some of the problems which are essential to repair to increase the quality of output for the face recognition system. The authors believed that the Fisherfaces algorithm will be able to overcome these factors by using a different approach which resulted in 2 observations:\n",
        "- All images of Lambertian surface from a fixed viewpoint will lie in a 3D linear subspace of the image space with high dimension.\n",
        "- Because of the issues, the above statement is not always true as some face region on an image may have a significant difference in their linear subspace with other images which will be less accurate when used for face recognition.\n",
        "\n",
        "An experiment in this paper is conducted to prove that the Fisherfaces algorithm will provide a more accurate result and a lower error rate. The factors which are tested on this experiment are lighting, facial expression and glasses recognition variation. All the methods and algorithm will be used to test on these main factors and their results will be compared to see if the Fisherfaces algorithm will have a better outcome compared to the other methods. After the results are compared, there will be evidence about whether the Fisherfaces algorithm is the best method of face recognition.\n",
        " \n"
      ]
    },
    {
      "cell_type": "markdown",
      "metadata": {
        "id": "pIttMdAiyp3g",
        "colab_type": "text"
      },
      "source": [
        "##Technical quality\n",
        "The technical quality of this work in this paper has a high enough quality for an academic paper of this topic. The authors supported their arguments of the Fisherfaces algorithm by experimenting using a database from Harvard Robotics Laboratory and Yale. Both sources have constructed an experiment regarding the major factors which affect the results of the face recognition algorithm the most which are various lighting and facial expression. The experiment is divided into 3 topics which are:\n",
        "-      Variation in Lighting\n",
        "\n",
        " \n",
        "\n",
        "<img src=\"https://github.com/louispranata/UTS_ML2019_12741423/blob/master/exp%201.jpg?raw=true\" width=\"400\"/> \n",
        "\n",
        "Fig 1. Examples of images from each of the 5 subsets (Belhumeur, Hespanha and Kriegman, 1997).\n",
        "\n",
        "A total of 330 images from five people with different light source direction and intensity are divided into 5 subsets of the images with a certain requirement. This experiment is then divided into 2 minor experiments, extrapolation which uses subset 1 as a training sample and subset 1, 2 and 3 as testing sample and interpolation which use subset 1 and 5 as training sample and the rest as the testing sample.\n",
        "\n",
        "<img src=\"https://github.com/louispranata/UTS_ML2019_12741423/blob/master/exp%202.jpg?raw=true\" width=\"400\"/> \n",
        "\n",
        "Fig 2. Extrapolation Results (Belhumeur, Hespanha and Kriegman, 1997)\n",
        "\n",
        "<img src=\"https://github.com/louispranata/UTS_ML2019_12741423/blob/master/exp%203.jpg?raw=true\" width=\"400\"/> \n",
        "\n",
        "Fig 3. Interpolation Results (Belhumeur, Hespanha and Kriegman, 1997).\n",
        "\n",
        "\n",
        "\n",
        "-      Variation in Facial Expression, Eye Wear, and Lighting\n",
        "\n",
        "This experiment collects a photo of 10 photos each for 16 subjects with different lighting and facial expression. People with glasses will only use them for the first picture while others will use glasses for the other 9 photos. This experiment also tried using full face and close crop pictures to determine which one produce a lower error rate.\n",
        "\n",
        "\n",
        "<img src=\"https://github.com/louispranata/UTS_ML2019_12741423/blob/master/exp%204.jpg?raw=true\" width=\"400\"/> \n",
        "\n",
        "Fig 4. An example of 10 images from one of the subjects (Belhumeur, Hespanha and Kriegman, 1997).\n",
        "\n",
        "<img src=\"https://github.com/louispranata/UTS_ML2019_12741423/blob/master/exp%205.jpg?raw=true\" width=\"400\"/> \n",
        "\n",
        "Fig 5. Result of the algorithm containing face expression and lighting variation (Belhumeur, Hespanha and Kriegman, 1997).\n",
        "\n",
        "\n",
        "-      Glasses Recognition\n",
        "\n",
        "A total of 36 images, half with glasses, are used to classify each person with only 2 methods, PCA and Fisherfaces. The Fisherfaces algorithm only has a 5.3% error rate while PCA has an error rate of more than a half (52.6%)\n",
        "\n",
        "<img src=\"https://github.com/louispranata/UTS_ML2019_12741423/blob/master/exp%207.jpg?raw=true\" width=\"400\"/> \n",
        "\n",
        "Fig 6. An example of an image of a person wearing glasses and its image used to determine whether there is glasses (Belhumeur, Hespanha and Kriegman, 1997).\n",
        "\n",
        "\n",
        "<img src=\"https://github.com/louispranata/UTS_ML2019_12741423/blob/master/exp%206.jpg?raw=true\" width=\"400\"/> \n",
        "\n",
        "Fig 7. Result of the algorithm for glasses recognition (Belhumeur, Hespanha and Kriegman, 1997)\n",
        "\n",
        "\n",
        "In the first 2 experiments, Linear subspace and Fisherfaces method produce similar low results but Linear subspaces require three times of the Fisherfaces algorithm’s storage and time. The authors use the results from these experiments to support their algorithm against the other methods. They have been clearly described so that it could be replicated by people. However, these experiments will be better if they tried to experiment for other major factors other than lighting and facial expression as it is too early to conclude that Fisherfaces is better than the other methods at face recognition."
      ]
    },
    {
      "cell_type": "markdown",
      "metadata": {
        "id": "6qmtxbxzyunQ",
        "colab_type": "text"
      },
      "source": [
        "##Application and X-factor\n",
        "\n",
        "I think that the application domain of the work in the paper is appropriate for the proposed techniques. In this paper, the proposed algorithm known as the Fisherfaces is a derivative of Fisher’s Linear Discriminant (FLD) which is used to decrease the effects of lighting variation and face expression (Belhumeur, Hespanha and Kriegman, 1997). On the other hand, the Eigenface method which uses principal components analysis (PCA) also maximizes the total scatter of the classes but keep useless lighting variation and facial expression. An experiment which is conducted in this paper shows that the Fisherfaces algorithm will give better and more accurate output at face recognition than all the other methods including Eigenfaces. However, not all pieces of evidence that are shown in the paper is believable and unbiased as some other factors are not being discussed there.\n",
        "\n",
        "Martinez and Kak (2001) stated that although most people would think Linear Discriminant Analysis (LDA or also known as FLD) will outclass PCA in every aspect at face recognition, pieces of evidence which are shown in their experiment proves otherwise. Evidence shows that PCA may outclass LDA if the sample number for each class is small and when the training data samples from the underlying distribution. They believed that people will never know the distributions of the classes in advance at the domain of face recognition, so it is difficult to identify whether the data is suited for the job. In their experiment, some of the results show PCA superiority while the rest shows LDA superiority (Martinez and Kak, 2001).\n",
        "\n",
        "The works of the first paper may be biased to show that the FLD outclass all the other methods regarding the factors at face recognition so it is still uncertain if FLD will give superior results at face recognition than the other methods.\n"
      ]
    },
    {
      "cell_type": "markdown",
      "metadata": {
        "id": "0TANAHv8y0mO",
        "colab_type": "text"
      },
      "source": [
        "##Presentation\n",
        "The quality of this paper is good enough for the standard of an academic literature paper as its overall structure is clear and well-designed which makes the reader be able to read and understand each concept. This paper starts with a solid abstract to summarise all the information of the paper and the rest of the paper are divided into 2 columns to make it more attractive. The paper also presents all the information and arguments very well to make reading easier with some figures and tables to support them. All the images are used by the paper to give evidence for supporting their arguments against other methods and algorithms. In my opinion, the paper can be more attractive and informative if it provided more ideas for their arguments as the conducted experiments do not provide enough evidence for supporting their algorithm against the other methods. It can be seen and proven from the other academic papers that their arguments are not necessarily true in every condition and specification. "
      ]
    },
    {
      "cell_type": "markdown",
      "metadata": {
        "colab_type": "text",
        "id": "GKbTFx_KzZtR"
      },
      "source": [
        "##References\n",
        "Belhumeur, P., Hespanha, J. and Kriegman, D. 1997, Eigenfaces vs. Fisherfaces: recognition using class specific linear projection, *IEEE Transactions on Pattern Analysis and Machine Intelligence*, vol 19, no 7, pp.711-720,.\n",
        "\n",
        "Martinez, A. and Kak, A. 2001, PCA versus LDA, *IEEE Transactions on Pattern Analysis and Machine Intelligence*, vol 23, no 2, pp.228-233,.\n"
      ]
    },
    {
      "cell_type": "markdown",
      "metadata": {
        "id": "WOIbvqh14eXv",
        "colab_type": "text"
      },
      "source": [
        "Link: https://github.com/louispranata/UTS_ML2019_12741423/blob/master/Assignment_1.ipynb"
      ]
    }
  ]
}