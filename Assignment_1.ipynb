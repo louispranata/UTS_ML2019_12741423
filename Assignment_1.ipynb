{
  "nbformat": 4,
  "nbformat_minor": 0,
  "metadata": {
    "colab": {
      "name": "Assignment 1.ipynb",
      "version": "0.3.2",
      "provenance": [],
      "include_colab_link": true
    },
    "kernelspec": {
      "name": "python3",
      "display_name": "Python 3"
    }
  },
  "cells": [
    {
      "cell_type": "markdown",
      "metadata": {
        "id": "view-in-github",
        "colab_type": "text"
      },
      "source": [
        "<a href=\"https://colab.research.google.com/github/louispranata/UTS_ML2019_12741423/blob/master/Assignment_1.ipynb\" target=\"_parent\"><img src=\"https://colab.research.google.com/assets/colab-badge.svg\" alt=\"Open In Colab\"/></a>"
      ]
    },
    {
      "cell_type": "markdown",
      "metadata": {
        "id": "VP2GR6zuydbR",
        "colab_type": "text"
      },
      "source": [
        "#Review Report on *Eigenfaces vs. Fisherfaces: Recognition Using Class Specific Linear Projection*"
      ]
    },
    {
      "cell_type": "markdown",
      "metadata": {
        "id": "OTGrvRG7wMs3",
        "colab_type": "text"
      },
      "source": [
        "##Introduction\n",
        "This report will contain information about the review of a chosen machine learning literature and its critique. The chosen literature for this review will be the paper titled “Eigenfaces vs. Fisherfaces: Recognition Using Class Specific Linear Projection” which is written by Peter N. Belhumeur, Joao P. Hespanha and David J. Kriegma. Its critiques will be separated into many different parts for the purpose of making the report easier to read.\n"
      ]
    },
    {
      "cell_type": "markdown",
      "metadata": {
        "id": "DutjoMs7ydFB",
        "colab_type": "text"
      },
      "source": [
        "##Content\n",
        "\n",
        "This literature paper contains information about the development of a new algorithm on face recognition which will not be affected by face expressions and lighting direction. For the last few years, many algorithms have been developed for the purpose of face recognition but as there is a huge improvement for this matter, other factors such as facial expression and light direction have been major obstacles on making a better algorithm than the current ones.  In this literature paper, a new approach has been proposed to be able to resist these factors which will lead to a more accurate and better results.\n",
        "\n",
        "This new algorithm known as the Fisherfaces will be able to recognise two pictures of the same person with different lighting intensity and direction which would not be possible by using the old algorithms. The other methods and algorithms which will be discussed in this report are correlation, eigenfaces and linear subspaces. In this report, each of these old algorithms will be discussed and explain in detail to be able to compare them with the Fisherfaces algorithm. By comparing the old methods and looking at their flaws, we can know their issues which will be needed to be resolved and make a new algorithm which can provide a better output for face recognition.\n",
        "\n",
        "An experiment has also been conducted to prove that the Fisherfaces algorithm will provide a more accurate results and a lower error rate. The factors which are tested on this experiment are lighting, facial expression and glasses recognition variation. All the methods and algorithm will be used to test on these main factors and their results will be compared to see if the Fisherfaces algorithm will have better outcome compared to the other methods. After the results are compared, there will be evidences about whether or not the Fisherfaces algorithm is the best method of face recognition.\n"
      ]
    },
    {
      "cell_type": "markdown",
      "metadata": {
        "id": "NS-R6-tBylbV",
        "colab_type": "text"
      },
      "source": [
        "##Innovation"
      ]
    },
    {
      "cell_type": "markdown",
      "metadata": {
        "id": "pIttMdAiyp3g",
        "colab_type": "text"
      },
      "source": [
        "##Technical quality\n",
        "The technical quality of this work in this paper has a high enough quality for an academic paper of this topic. The authors supported their arguments of the Fisherfaces algorithm by conducting an experiment using a database from Harvard Robotics Laboratory and Yale. Both sources have constructed an experiment regarding the major factors which affect the results of face recognition algorithm the most which are various lighting and facial expression.  The experiment are divided into 3 topic which are: \n",
        "1. Variation in Lighting\n",
        "\n",
        "A total of 330 images from five people with different light source direction and intensity are divided into 5 subsets of the images with a certain requirement. This experiment is then divided into 2 minor experiment, extrapolation which use subset 1 as a training sample and subset 1, 2 and 3 as testing sample and interpolation which use subset 1 and 5 as training sample and the rest as testing sample.  \n",
        "\n",
        "2.\tVariation in Facial Expression, Eye Wear, and Lighting\n",
        "\n",
        "This experiment collects a photo of 10 photos each for 16 subjects with different lighting and facial expression. People with glasses will only use them for the first picture while the others will use glasses for the other 9 photos.  This experiment also tried using full face and close crop pictures to determine which one produce a lower error rate. \n",
        "\n",
        "\n",
        "3.\tGlasses Recognition\n",
        "\n",
        "A total of 36 images, half with glasses, are used to classify each person with only 2 methods, PCA and Fisherfaces. The Fisherfaces algorithm only has a 5.3% error rate while PCA has an error rate of more than a half (52.6%)\n",
        "\n",
        "In the first 2 experiments, Linear subspace and Fisherfaces method produce similar low results but Linear subspaces requires three times of the Fisherfaces algorithm’s storage and time. The authors use the results from these experiments to support their algorithm against the other methods. They have been clearly described so that it could be replicated by people. However, these experiments will be better if they tried to experiment for other major factors other than lighting and facial expression as it is too early to conclude that Fisherfaces is better than the others at face recognition.\n",
        "\n"
      ]
    },
    {
      "cell_type": "markdown",
      "metadata": {
        "id": "6qmtxbxzyunQ",
        "colab_type": "text"
      },
      "source": [
        "##Application and X-factor\n",
        "UwU"
      ]
    },
    {
      "cell_type": "markdown",
      "metadata": {
        "id": "0TANAHv8y0mO",
        "colab_type": "text"
      },
      "source": [
        "##Presentation\n",
        "The quality of this paper is good enough for the standard of an academic literature paper as its overall structure is clear and well designed which makes the reader to be able to read and understand each concept. This paper starts with a solid abstract to summarise all the information of the paper and the rest of the paper are divided into 2 columns for the purpose of making it more attractive. The paper also presents all the information and arguments very well to make reading easier with some figures and tables to support them. All the images are used by the paper to give evidences for supporting their arguments against other methods and algorithms. In my opinion, the paper can be more attractive and informative if it provided more ideas for their arguments as the conducted experiments does not provide enough evidences for supporting their algorithm against the other methods."
      ]
    },
    {
      "cell_type": "markdown",
      "metadata": {
        "colab_type": "text",
        "id": "GKbTFx_KzZtR"
      },
      "source": [
        "##References\n",
        "Belhumeur, P., Hespanha, J. and Kriegman, D. 1997, Eigenfaces vs. Fisherfaces: recognition using class specific linear projection, *IEEE Transactions on Pattern Analysis and Machine Intelligence*, vol 19, no 7, pp.711-720,.\n",
        "\n",
        "cite : (Belhumeur, Hespanha and Kriegman, 1997)"
      ]
    },
    {
      "cell_type": "markdown",
      "metadata": {
        "id": "WOIbvqh14eXv",
        "colab_type": "text"
      },
      "source": [
        "Link: https://github.com/louispranata/UTS_ML2019_12741423/blob/master/Assignment_1.ipynb"
      ]
    }
  ]
}