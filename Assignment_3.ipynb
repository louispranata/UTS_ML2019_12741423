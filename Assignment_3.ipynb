{
  "nbformat": 4,
  "nbformat_minor": 0,
  "metadata": {
    "colab": {
      "name": "Assignment 3.ipynb",
      "provenance": [],
      "collapsed_sections": [],
      "include_colab_link": true
    },
    "kernelspec": {
      "name": "python3",
      "display_name": "Python 3"
    }
  },
  "cells": [
    {
      "cell_type": "markdown",
      "metadata": {
        "id": "view-in-github",
        "colab_type": "text"
      },
      "source": [
        "<a href=\"https://colab.research.google.com/github/louispranata/UTS_ML2019_12741423/blob/master/Assignment_3.ipynb\" target=\"_parent\"><img src=\"https://colab.research.google.com/assets/colab-badge.svg\" alt=\"Open In Colab\"/></a>"
      ]
    },
    {
      "cell_type": "markdown",
      "metadata": {
        "id": "eukUIC9CSuO1",
        "colab_type": "text"
      },
      "source": [
        "#Assignment 3: Take Home Exam\n",
        "31005 Machine Learning Spring 2019\n",
        "\n",
        "Louis Pranata 12741423"
      ]
    },
    {
      "cell_type": "markdown",
      "metadata": {
        "id": "aqfN7SeQhh6k",
        "colab_type": "text"
      },
      "source": [
        "#Question\n",
        "\n",
        "Marketing or advertising companies would be very interested in being able to predict whether a Twitter message will spread as a meme or not, and even better, construct it so that it will spread. Why is this a hard problem to solve? Describe two approaches using data analytics to predict whether a tweet will go viral or not. How would you validate these approaches? Discuss the ethical and social consequence of this study."
      ]
    },
    {
      "cell_type": "markdown",
      "metadata": {
        "id": "rUX2xqeRS48h",
        "colab_type": "text"
      },
      "source": [
        "#Introduction\n",
        "\n",
        "Over the last decade, social media has been a huge phenomenon on the world of technology and are used by a lot number of people worldwide. Most users of social media use them with different reasons such as for entertainment, hobbies, meeting new people and so on. Social media has been a huge part of a humans’ daily life that it has been calculated that as of 2018, each person spend their time using them on an average of 136 minutes a day (Clement, 2019). While users of social medias increase every day, companies and businesses have been using these opportunities to do marketing and advertising for their products.  \n",
        "\n",
        "On some occasions, people post their content on their social medias such as Twitter and never thought that one of their posts will go viral across all the Internet. Advertising companies will be interested on how a normal post can be viral and shared around people on the Internet. If they know the way of making a post viral and construct it so they are spread, they can advertise their products to a huge number of users on the Internet. This report will be discussing about the problems of finding the way of making a post viral while describing the validation of the data analytics approaches and their ethical consequences. \n",
        "\n",
        "\n"
      ]
    },
    {
      "cell_type": "markdown",
      "metadata": {
        "id": "TacyaBNdaPaL",
        "colab_type": "text"
      },
      "source": [
        "#Solving the problem\n",
        "\n",
        "\n",
        "While being able to predict about how a Twitter message can go viral sounds like an easy thing to solve, professionals are still unsure about the attributes and requirements of making them viral. Twitter has also conducted an experiment by using an algorithm to detect posts that gain popularity the quickest but predicting viral posts is not as easy as looking at the number of retweets (Dugan, 2013). Cornell university researchers think that they have solved this problem by identifying the 9 features of a viral post such as asking people to share, informative, easy to read and so on (Dormehl, 2015). They have made an algorithm which can predict whether a Tweet is more likely to go viral by using all their 9 features. \n",
        "\n",
        "A study from Bei hang university has found that one key to predict a viral post is to look at its first 50 retweets and their infectivity ability while looking at other predictive factors like social reinforcement (PTI, 2019). They have proven that infectivity is a large effect on deciding a viral post by comparing the performance of an infectivity model with a community model. According to Jenders, Kasneci and Naumann (2013), the first step is to analyse all the tweet features such as number of followers, hashtags, mentions and tweet length.  Then, the latent features of the tweet need to be analysed such as the sentiment, emotional divergence and correlations with the retweets.\n",
        "\n",
        "Even after many professionals have done researches on predicting a viral post, there is still no solutions that can solve this problem on every situation. All the answers above can only work on each of the researchers’ conditions and there is still no evidence that can prove that each solution will solve the problem.\n",
        "\n"
      ]
    },
    {
      "cell_type": "markdown",
      "metadata": {
        "id": "fQqrYLfMaZVG",
        "colab_type": "text"
      },
      "source": [
        "#Approaches using data analytics\n",
        "\n",
        "\n",
        "The first approach of data analytics to predict the viral tweet which will be discussed in this report is called the content analysis. In this analysis, the content of the tweet will be examined such as the reason and how people tweet the post (Jenders, Kasneci and Naumann 2013). This approach also checks tweet features such as the amount of verb, nouns and adjectives in a post, and punctuation characters. A study which uses this approach to predict found out that social media users prefer posts that contains random information and thoughts about status update.\n",
        "\n",
        "Another approach of data analytics that can be used to predict a viral tweet is the sentiment analysis and it focuses on classifying the sentiments of the tweet on social network (Jenders, Kasneci and Naumann 2013). In a report, an algorithm was made to extract the sentiment strength from an informal English text on the same problem. This algorithm checks the spelling and grammar style of the tweet and analyses it to decide if the tweet contains positive or negative sentiments. The algorithm also provides evidences that emotional divergences can be used to predict the tweet being retweeted.\n",
        "\n",
        "These two approaches which can be used to predict a viral tweet focus on different aspects and features of a tweet to be analysed and they provide different information on solutions of solving the problem. While the approaches of these analysis are different, the information given by them can be used together to find a combined solution that can solve the problem and find a way to predict on a viral tweet.\n",
        "\n"
      ]
    },
    {
      "cell_type": "markdown",
      "metadata": {
        "id": "Tjlt0A4fg5j4",
        "colab_type": "text"
      },
      "source": [
        "\n",
        "#Approaches Validation\n",
        "\n",
        "Using the two approaches of data analytics which are discussed above, we will have enough data which can be used to predict a viral post. Firstly, we need to have a representative sample which contains a huge number of tweets with their users and one sample example is the Twittersphere, a part of the TREC 2011 microblog track, led by the National Institute of Standards and Technology (NIST) (Jenders, Kasneci and Naumann 2013). Then, we can use a model that can learn itself by using the data of the tweets in the database and the more it learnt, the more accurate it predicts the viral tweets.\n",
        "\n",
        "While the two data analytics approaches focus on different aspects of the tweets, we can use the same method to validate both approaches and even combine their data to create a more accurate result. The learning model can learn by analysing the data from the content analysis which focus on why and how the tweet is posted and the sentiment analysis which focus on the sentiment valence, emotional divergence and individual sentiments. While there are still many features that can be analysed to predict the viral tweets, the content and sentiment analysis have been proven to be some features that have large effects on the topic (Jenders, Kasneci and Naumann 2013).\n"
      ]
    },
    {
      "cell_type": "markdown",
      "metadata": {
        "id": "jKsb4nH6hCRW",
        "colab_type": "text"
      },
      "source": [
        "\n",
        "#Ethical and Social Consequence\n",
        "\n",
        "While predicting whether a tweet will be viral is already a hard problem to solve, using past data that can help to solve this problem can also produce some ethical and social consequence. Data which has been posted inside any social media may be used wrongly by other people or organisations for their own benefits such as advertisement and data sale. While our study only looks and analyse the data of the tweets and the users in Twitter, there may be some users who did not give permission and consent for us to use their data for the study. \n",
        "\n",
        "If the solution on predicting how to make a Tweet viral has been found, then there will be so many advertising and marketing companies that will misuse them to advertise their products on any social media platform. This can lead to the changes on all social media, originally a platform where users can post any content, into becoming a platform where companies advertise their products which can also make the daily users to quit using them. For example, every time people want to watch a YouTube video, an advertisement will always appear at the beginning and the end. Sometime in a long video, it can also appear at the middle multiple times and make watchers annoyed at the number of advertisements appearing as they disturb us watching a video which we want to watch.\n"
      ]
    },
    {
      "cell_type": "markdown",
      "metadata": {
        "id": "_L0qB0X1hL7o",
        "colab_type": "text"
      },
      "source": [
        "\n",
        "#Conclusion\n",
        "\n",
        "While predicting on how a tweet can be viral is a very interesting topic, it is a very hard problem to be solved for even data analytics professionals. As this topic has been discussed a lot for the last few years, there have been many studies which have done research and found many features that may have effect on this problem. These studies provide different results as they use different approaches during each study, but the data collected from each study may be combined to make a more accurate result. If a solution to the study has been found, it can create an ethical issue of companies advertising their products on social media on a huge basis. \n"
      ]
    },
    {
      "cell_type": "markdown",
      "metadata": {
        "id": "M1OPMvowahIC",
        "colab_type": "text"
      },
      "source": [
        "#Reference List\n",
        "\n",
        "Clement, J. 2019, *Global time spent on social media daily 2018 | Statista*, Statista. viewed 3 October 2019, < https://www.statista.com/statistics/433871/daily-social-media-usage-worldwide/ >.\n",
        "\n",
        "Dormehl, L. 2015, *These Researchers Say They Can Predict Which Tweets Will Go Viral*, Fast Company. viewed 3 October 2019, < https://www.fastcompany.com/3042372/these-researchers-say-they-can-predict-which-tweets-will-go-viral >.\n",
        "\n",
        "Dugan, L. 2013, *Does Twitter Have What It Takes To Predict A Viral Tweet In Real Time*, Adweek.com. viewed 3 October 2019, < https://www.adweek.com/digital/twitter-predict-viral-tweets/ >.\n",
        "\n",
        "Jenders, M., Kasneci, G. and Naumann, F. 2013, *Analyzing and predicting viral tweets, Proceedings of the 22nd International Conference on World Wide Web - WWW '13 Companion*, pp.657-664.\n",
        "\n",
        "PTI 2019, *Will your tweet go viral? First 50 retweets are enough to decide*, livemint.com. viewed 3 October 2019, < https://www.livemint.com/companies/news/will-your-tweet-go-viral-first-50-retweets-are-enough-to-decide-1555582459978.html >.\n"
      ]
    },
    {
      "cell_type": "markdown",
      "metadata": {
        "id": "1IvtqzaEiA0B",
        "colab_type": "text"
      },
      "source": [
        "#Github Link:\n",
        "\n",
        "https://github.com/louispranata/UTS_ML2019_12741423/blob/master/Assignment_3.ipynb"
      ]
    }
  ]
}